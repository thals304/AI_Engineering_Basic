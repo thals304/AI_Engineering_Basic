{
 "cells": [
  {
   "cell_type": "markdown",
   "metadata": {
    "id": "MfOdcTSQgZ55"
   },
   "source": [
    "### [TODO] 코드 실행 : 가상환경 설치하기\n",
    "\n",
    "가상환경 설치를 완료하고, 현재 파이썬 버전을 확인해보세요.\n"
   ]
  },
  {
   "cell_type": "code",
   "execution_count": null,
   "metadata": {
    "id": "awloiAiGgg8x"
   },
   "outputs": [],
   "source": [
    "import sys\n",
    "print(sys.version)"
   ]
  },
  {
   "cell_type": "markdown",
   "metadata": {
    "id": "ughF0l9BhAg-"
   },
   "source": [
    "### [TODO] 코드 구현 : 실행환경 점검 - 파일 입출력\n",
    "\n",
    "압축 파일 내에 제공된 'zen of python.csv' 파일을 불러와 내용을 출력해보세요.\n",
    "불러올 파일을 저장한 변수명은 'df_csv' 입니다."
   ]
  },
  {
   "cell_type": "code",
   "execution_count": 1,
   "metadata": {
    "id": "Qwg-mYfuhI1y"
   },
   "outputs": [
    {
     "name": "stdout",
     "output_type": "stream",
     "text": [
      "                         Zen of Python, by Tim Peters  \\\n",
      "0                      Beautiful is better than ugly.   \n",
      "1                   Explicit is better than implicit.   \n",
      "2                      Simple is better than complex.   \n",
      "3                 Complex is better than complicated.   \n",
      "4                         Flat is better than nested.   \n",
      "5                        Sparse is better than dense.   \n",
      "6                                 Readability counts.   \n",
      "7   Special cases aren't special enough to break t...   \n",
      "8                 Although practicality beats purity.   \n",
      "9                  Errors should never pass silently.   \n",
      "10                        Unless explicitly silenced.   \n",
      "11  In the face of ambiguity, refuse the temptatio...   \n",
      "12  There should be one-- and preferably only one ...   \n",
      "13  Although that way may not be obvious at first ...   \n",
      "14                          Now is better than never.   \n",
      "15     Although never is often better than right now.   \n",
      "16  If the implementation is hard to explain, it's...   \n",
      "17  If the implementation is easy to explain, it m...   \n",
      "18  Namespaces are one honking great idea -- let's...   \n",
      "\n",
      "                                파이썬의 선, 팀 피터슨  \n",
      "0                        아름다운것이 못생긴 것보다 좋습니다.  \n",
      "1                      명시적인 것이 암시적인 것보다 좋습니다.  \n",
      "2                        단순한 것이 복잡한 것보다 좋습니다.  \n",
      "3                        복잡한 것이 난해한 것보다 좋습니다.  \n",
      "4                       단조로운 것이 중첩된 것보다 좋습니다.  \n",
      "5                         여유로움이 밀집된 것보다 좋습니다.  \n",
      "6                                 가독성은 중요합니다.  \n",
      "7            특별한 상황이, 규칙을 깰 만큼 특별하단 얘기는 아닙니다.  \n",
      "8                     비록 실용성이 이상을 능가한다 할지라도요.  \n",
      "9                         오류는 조용히 넘어가서는 안됩니다.  \n",
      "10                          알고도 침묵하지 않는 한에서요.  \n",
      "11                    모호한 상황이라면, 추측하려 하지 마세요.  \n",
      "12  문제를 해결할 하나의 - 바람직하고 유일한 - 명백한 방법이 있을 것이다.  \n",
      "13      비록 당신이 우둔해서 처음에는 명백해 보이지 않을 수도 있겠지만요.  \n",
      "14                  지금 하는 것이 전혀 안하는 것보다 좋습니다.  \n",
      "15           비록 하지않는 것이 지금 하는 것보다 나을 때도 있지만요.  \n",
      "16         구현 방식이 설명하기 어렵다면, 그것은 좋지 않은 생각입니다.  \n",
      "17        구현 방식이 설명하기 쉽다면, 그것은 아마 좋은 생각일 겁니다.  \n",
      "18      Namespaces는 쩌는 생각입니다. 더욱 이런 것들을 해봅시다!  \n"
     ]
    }
   ],
   "source": [
    "import pandas as pd\n",
    "\n",
    "## 코드시작 ##\n",
    "\n",
    "import pandas as pd\n",
    "\n",
    "# CSV 파일 불러오기\n",
    "df_csv = pd.read_csv('zen of python.csv')\n",
    "\n",
    "\n",
    "## 코드종료 ##\n",
    "\n",
    "print(df_csv)"
   ]
  },
  {
   "cell_type": "markdown",
   "metadata": {
    "id": "rFOJ8dz1Y_Yo"
   },
   "source": [
    "### [TODO] 코드 구현 : 간단한 코드 작성하고 실행하기 (numpy)\n",
    "\n",
    "다음 지시문의 코드를 작성하고 결과를 출력해보세요."
   ]
  },
  {
   "cell_type": "code",
   "execution_count": 4,
   "metadata": {
    "id": "J1SylZwoZOBY"
   },
   "outputs": [
    {
     "name": "stdout",
     "output_type": "stream",
     "text": [
      "[10 25 40 55 70]\n",
      "200\n",
      "40.0\n",
      "70\n",
      "10\n",
      "[1.  2.5 4.  5.5 7. ]\n",
      "[  1000  15625  64000 166375 343000]\n"
     ]
    }
   ],
   "source": [
    "import numpy as np\n",
    "\n",
    "# 주어진 리스트\n",
    "data = [10, 25, 40, 55, 70]\n",
    "\n",
    "## 코드시작 ##\n",
    "# 1. numpy 배열로 변환하여 출력하세요.\n",
    "\n",
    "array_data = np.array(data)\n",
    "print(array_data)\n",
    "\n",
    "# 2. 리스트의 모든 원소의 합을 계산하여 출력하세요.\n",
    "sum_data = np.sum(array_data)\n",
    "print(sum_data)\n",
    "\n",
    "# 3. 리스트의 모든 원소의 평균을 계산하여 출력하세요.\n",
    "mean_data = np.mean(array_data)\n",
    "print(mean_data)\n",
    "\n",
    "# 4. 리스트의 최댓값과 최솟값을 출력하세요.\n",
    "max_data = np.max(array_data)\n",
    "min_data = np.min(array_data)\n",
    "print(max_data)\n",
    "print(min_data)\n",
    "\n",
    "# 5. 각 원소를 10으로 나누는 연산을 수행하고 결과를 출력하세요.\n",
    "divided_by_10 = array_data / 10\n",
    "print(divided_by_10)\n",
    "\n",
    "# 6. 각 원소를 3으로 거듭제곱하는 연산을 수행하고 결과를 출력하세요.\n",
    "power_of_3 = np.power(array_data, 3)\n",
    "print(power_of_3)\n",
    "## 코드종료 ##"
   ]
  },
  {
   "cell_type": "markdown",
   "metadata": {
    "id": "UaIA4ZOk6MOa"
   },
   "source": [
    "ALL RIGHTS RESERVED. ⓒNAVER Connect Foundation."
   ]
  }
 ],
 "metadata": {
  "colab": {
   "provenance": []
  },
  "kernelspec": {
   "display_name": "Python 3 (ipykernel)",
   "language": "python",
   "name": "python3"
  },
  "language_info": {
   "codemirror_mode": {
    "name": "ipython",
    "version": 3
   },
   "file_extension": ".py",
   "mimetype": "text/x-python",
   "name": "python",
   "nbconvert_exporter": "python",
   "pygments_lexer": "ipython3",
   "version": "3.11.5"
  }
 },
 "nbformat": 4,
 "nbformat_minor": 1
}
